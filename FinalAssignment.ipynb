{
 "cells": [
  {
   "attachments": {
    "gekoppelde%20tanks-1.png": {
     "image/png": "[encoded data removed]"
    }
   },
   "cell_type": "markdown",
   "metadata": {},
   "source": [
    "# De opdracht.\n",
    "Twee grote tanks, elk gevuld met 100 Liter vloeistof, zijn met pijpleidingen aan elkaar verbonden. De vloeistof stroomt van tank A in tank B met een snelheid van 3 L/min en van B in A met 1 L/min. Een zoutoplossing met een concentratie van 0.2 kg/L stroomt met een snelheid van 6 L/min tank A in. De oplossing stroomt met een snelheid van 4 L/min tank A uit en verlaat met een snelheid van 2 L/min tank B. ![gekoppelde%20tanks-1.png](attachment:gekoppelde%20tanks-1.png)"
   ]
  },
  {
   "cell_type": "markdown",
   "metadata": {},
   "source": [
    "# Imports."
   ]
  },
  {
   "cell_type": "code",
   "execution_count": 1,
   "metadata": {},
   "outputs": [],
   "source": [
    "import math\n",
    "import numpy as np\n",
    "import matplotlib.pyplot as plt"
   ]
  },
  {
   "cell_type": "markdown",
   "metadata": {},
   "source": [
    "# De code."
   ]
  },
  {
   "cell_type": "markdown",
   "metadata": {},
   "source": [
    "### De variabele.\n",
    "Hierin staan alle variabele die ik gebruikt heb voor de opdracht, de meeste van deze variabelen heb ik uit de tekst van de opdracht gepakt, bijvoorbeeld de stroming van tank A naar tank B. Ook heb ik een paar variabele gemaakt voor de schoonheid van de code, ik heb namelijk de totale bij en af van een tank in een variabele gezet inplaats van dat het versprijt staat over meerdere variabelen. Ook de looptijd van de test staat hierin, in dit geval is het 100 minuten en elke stap is één minuut en zo zijn er dus 100 stappen."
   ]
  },
  {
   "cell_type": "code",
   "execution_count": 2,
   "metadata": {},
   "outputs": [],
   "source": [
    "Begin_inhoud_tank_A = 100 # 100 L \n",
    "Begin_inhoud_tank_B = 100 # 100 L \n",
    "\n",
    "Begin_gehalte_tank_A = 0 # 0 KG\n",
    "Begin_gehalte_tank_B = 20 # 20 KG\n",
    "\n",
    "A_naar_B_stroming = 3 # 3 L/min\n",
    "B_naar_A_stroming = 1 # 1 L/min\n",
    "\n",
    "Invoer_zoutoplossing_tank_A = 6 # 6L/min\n",
    "Concentratie_zoutoplossing_per_liter = 0.2 # 0.2 KG/L, 1.2 KG per minuut\n",
    "Invoer_zoutoplossing_per_min = 1.2 # 1.2 KG\n",
    "\n",
    "Leeglopen_tank_A = 4 # 4 L/min\n",
    "Leeglopen_tank_B = 2 # 2 L/min\n",
    "\n",
    "totaal_tank_A_bij = B_naar_A_stroming + Invoer_zoutoplossing_tank_A # de totale hoeveelheid vloeistof die de tank binnenkomt\n",
    "totaal_tank_A_minder = A_naar_B_stroming + Leeglopen_tank_A # de totale hoeveelheid vloeistof die de tank verlaat\n",
    "\n",
    "totaal_tank_B_bij = A_naar_B_stroming # de totale hoeveelheid vloeistof die de tank binnenkomt\n",
    "totaal_tank_B_minder = B_naar_A_stroming + Leeglopen_tank_B # de totale hoeveelheid vloeistof die de tank verlaat\n",
    "\n",
    "stap = 1 # minuut\n",
    "Minuten_looptijd = 100 # in munten\n",
    "aantal_stappen = Minuten_looptijd # De tank loopt x aantal minuten en de stappen zijn van 1 minuut dus het zijn evenveel stappen als de looptijd"
   ]
  },
  {
   "cell_type": "markdown",
   "metadata": {},
   "source": [
    "### Forward euler methode.\n",
    "In deze functie staan variabele die je niet hoeft te veranderen, hiermee bedoel ik dat je ze niet hoeft te verandere als je een andere antwoord wilt. Als je namelijk een test wilt draaien met andere waardes moet je de waardes in het kopje 'De variabele' veranderen. Zo is deze code herbruikbaar met alle waardes die je maar wilt, niet de standaard variabelen. Het is dus niet 'hard coded'. Je ziet dat ik vaak 'np.zeros(aantal_stappen + 1)' gebruik, wat ik daar doe is een array maken met alleen maar nullen, er zijn evenveel nullen als er aantal stappen zijn. Zo kan ik later in de for loop over deze arrays heen lopen en dan de waardes invullen."
   ]
  },
  {
   "cell_type": "code",
   "execution_count": 3,
   "metadata": {},
   "outputs": [
    {
     "data": {
      "text/plain": [
       "([1,\n",
       "  0,\n",
       "  1,\n",
       "  2,\n",
       "  3,\n",
       "  4,\n",
       "  5,\n",
       "  6,\n",
       "  7,\n",
       "  8,\n",
       "  9,\n",
       "  10,\n",
       "  11,\n",
       "  12,\n",
       "  13,\n",
       "  14,\n",
       "  15,\n",
       "  16,\n",
       "  17,\n",
       "  18,\n",
       "  19,\n",
       "  20,\n",
       "  21,\n",
       "  22,\n",
       "  23,\n",
       "  24,\n",
       "  25,\n",
       "  26,\n",
       "  27,\n",
       "  28,\n",
       "  29,\n",
       "  30,\n",
       "  31,\n",
       "  32,\n",
       "  33,\n",
       "  34,\n",
       "  35,\n",
       "  36,\n",
       "  37,\n",
       "  38,\n",
       "  39,\n",
       "  40,\n",
       "  41,\n",
       "  42,\n",
       "  43,\n",
       "  44,\n",
       "  45,\n",
       "  46,\n",
       "  47,\n",
       "  48,\n",
       "  49,\n",
       "  50,\n",
       "  51,\n",
       "  52,\n",
       "  53,\n",
       "  54,\n",
       "  55,\n",
       "  56,\n",
       "  57,\n",
       "  58,\n",
       "  59,\n",
       "  60,\n",
       "  61,\n",
       "  62,\n",
       "  63,\n",
       "  64,\n",
       "  65,\n",
       "  66,\n",
       "  67,\n",
       "  68,\n",
       "  69,\n",
       "  70,\n",
       "  71,\n",
       "  72,\n",
       "  73,\n",
       "  74,\n",
       "  75,\n",
       "  76,\n",
       "  77,\n",
       "  78,\n",
       "  79,\n",
       "  80,\n",
       "  81,\n",
       "  82,\n",
       "  83,\n",
       "  84,\n",
       "  85,\n",
       "  86,\n",
       "  87,\n",
       "  88,\n",
       "  89,\n",
       "  90,\n",
       "  91,\n",
       "  92,\n",
       "  93,\n",
       "  94,\n",
       "  95,\n",
       "  96,\n",
       "  97,\n",
       "  98,\n",
       "  99],\n",
       " array([0.        , 0.        , 0.012     , 0.024     , 0.03552   ,\n",
       "        0.04656   , 0.0571392 , 0.0672768 , 0.07699123, 0.08630016,\n",
       "        0.09522051, 0.1037685 , 0.11195968, 0.11980894, 0.12733056,\n",
       "        0.1345382 , 0.14144498, 0.14806345, 0.15440565, 0.16048311,\n",
       "        0.16630689, 0.17188756, 0.17723529, 0.18235978, 0.18727037,\n",
       "        0.19197598, 0.19648517, 0.20080613, 0.20494672, 0.20891447,\n",
       "        0.21271661, 0.21636003, 0.21985136, 0.22319696, 0.22640291,\n",
       "        0.22947503, 0.23241891, 0.23523991, 0.23794315, 0.24053356,\n",
       "        0.24301583, 0.24539449, 0.24767386, 0.24985808, 0.25195112,\n",
       "        0.2539568 , 0.25587875, 0.25772048, 0.25948533, 0.26117651,\n",
       "        0.2627971 , 0.26435004, 0.26583816, 0.26726415, 0.26863063,\n",
       "        0.26994006, 0.27119484, 0.27239723, 0.27354944, 0.27465355,\n",
       "        0.27571157, 0.27672543, 0.27769697, 0.27862795, 0.27952007,\n",
       "        0.28037495, 0.28119415, 0.28197915, 0.28273139, 0.28345222,\n",
       "        0.28414297, 0.28480488, 0.28543916, 0.28604696, 0.2866294 ,\n",
       "        0.28718752, 0.28772234, 0.28823484, 0.28872595, 0.28919655,\n",
       "        0.28964752, 0.29007965, 0.29049375, 0.29089057, 0.29127082,\n",
       "        0.29163519, 0.29198436, 0.29231895, 0.29263958, 0.29294682,\n",
       "        0.29324124, 0.29352337, 0.29379372, 0.29405278, 0.29430103,\n",
       "        0.29453892, 0.29476688, 0.29498532, 0.29519465, 0.29539524,\n",
       "        0.29558745]),\n",
       " array([0.2       , 0.2       , 0.194     , 0.188     , 0.18254   ,\n",
       "        0.17762   , 0.1732094 , 0.1692776 , 0.16579549, 0.16273547,\n",
       "        0.16007134, 0.15777828, 0.15583276, 0.15421246, 0.15289627,\n",
       "        0.15186417, 0.1510972 , 0.15057742, 0.15028785, 0.15021243,\n",
       "        0.15033596, 0.15064408, 0.15112321, 0.15176052, 0.15254388,\n",
       "        0.15346186, 0.15450365, 0.15565908, 0.15691852, 0.15827293,\n",
       "        0.15971378, 0.16123302, 0.16282311, 0.16447692, 0.16618777,\n",
       "        0.16794937, 0.16975582, 0.17160159, 0.17348149, 0.17539063,\n",
       "        0.17732448, 0.17927877, 0.18124951, 0.18323298, 0.18522571,\n",
       "        0.18722447, 0.18922623, 0.1912282 , 0.19322778, 0.19522254,\n",
       "        0.19721027, 0.19918889, 0.20115649, 0.20311133, 0.20505178,\n",
       "        0.20697636, 0.20888373, 0.21077264, 0.21264197, 0.21449071,\n",
       "        0.21631794, 0.21812282, 0.21990463, 0.22166271, 0.22339648,\n",
       "        0.22510544, 0.22678914, 0.22844723, 0.23007938, 0.23168534,\n",
       "        0.2332649 , 0.2348179 , 0.23634425, 0.23784385, 0.2393167 ,\n",
       "        0.2407628 , 0.24218218, 0.24357492, 0.24494112, 0.24628092,\n",
       "        0.24759447, 0.24888193, 0.25014353, 0.25137946, 0.25258996,\n",
       "        0.2537753 , 0.25493572, 0.25607152, 0.25718298, 0.2582704 ,\n",
       "        0.2593341 , 0.26037439, 0.26139161, 0.26238608, 0.26335814,\n",
       "        0.26430814, 0.26523643, 0.26614335, 0.26702926, 0.26789452,\n",
       "        0.26873949]))"
      ]
     },
     "execution_count": 3,
     "metadata": {},
     "output_type": "execute_result"
    }
   ],
   "source": [
    "def Forward_euler_methode():\n",
    "    \n",
    "    Gehalte_tank_A = np.zeros(aantal_stappen + 1)\n",
    "    Gehalte_tank_A[0] = Begin_gehalte_tank_A\n",
    "    \n",
    "    Concentratie_zoutoplossing_tank_A = np.zeros(aantal_stappen + 1)\n",
    "    Concentratie_zoutoplossing_tank_A[0] = Begin_gehalte_tank_A\n",
    "    \n",
    "    Inhoud_tank_A = np.zeros(aantal_stappen + 1)\n",
    "    Inhoud_tank_A[0] = Begin_inhoud_tank_A\n",
    "    \n",
    "    delen_tank_A = np.zeros(aantal_stappen + 1)\n",
    "    delen_tank_A[0] = Gehalte_tank_A[0] / Inhoud_tank_A[0]\n",
    "    \n",
    "    Gehalte_tank_B = np.zeros(aantal_stappen + 1)\n",
    "    Gehalte_tank_B[0] = Begin_gehalte_tank_B\n",
    "    \n",
    "    Concentratie_zoutoplossing_tank_B = np.zeros(aantal_stappen + 1)\n",
    "    Concentratie_zoutoplossing_tank_B[0] = Begin_gehalte_tank_B\n",
    "    \n",
    "    Inhoud_tank_B = np.zeros(aantal_stappen + 1)\n",
    "    Inhoud_tank_B[0] = Begin_inhoud_tank_B\n",
    "    \n",
    "    delen_tank_B = np.zeros(aantal_stappen + 1)\n",
    "    delen_tank_B[0] = Gehalte_tank_B[0] / Inhoud_tank_B[0]\n",
    "    \n",
    "    looptijd = [1]\n",
    "    \n",
    "    for stap in range(aantal_stappen):\n",
    "\n",
    "        Inhoud_tank_A[stap + 1] = Inhoud_tank_A[stap] + totaal_tank_A_bij - totaal_tank_A_minder\n",
    "        Concentratie_zoutoplossing_tank_A[stap + 1] = Concentratie_zoutoplossing_tank_A[stap] + (Invoer_zoutoplossing_tank_A * Concentratie_zoutoplossing_per_liter) - (Leeglopen_tank_A * delen_tank_A[stap])\n",
    "        delen_tank_A[stap + 1] = Concentratie_zoutoplossing_tank_A[stap] / Inhoud_tank_A[stap]\n",
    "        \n",
    "        Inhoud_tank_B[stap + 1] = Inhoud_tank_B[stap] + totaal_tank_B_bij - totaal_tank_B_minder\n",
    "        Concentratie_zoutoplossing_tank_B[stap + 1] = Concentratie_zoutoplossing_tank_B[stap] + (A_naar_B_stroming * delen_tank_A[stap]) - ((B_naar_A_stroming * delen_tank_B[stap]) + (Leeglopen_tank_B * delen_tank_B[stap]))\n",
    "        delen_tank_B[stap + 1] = Concentratie_zoutoplossing_tank_B[stap] / Inhoud_tank_B[stap]\n",
    "        \n",
    "        looptijd.append(stap)\n",
    "        \n",
    "    return looptijd, delen_tank_A, delen_tank_B\n",
    "Forward_euler_methode()"
   ]
  },
  {
   "cell_type": "markdown",
   "metadata": {},
   "source": [
    "### Visualisatie."
   ]
  },
  {
   "cell_type": "code",
   "execution_count": 4,
   "metadata": {},
   "outputs": [
    {
     "data": {
      "image/png": "[encoded data removed]",
      "text/plain": [
       "<Figure size 432x288 with 1 Axes>"
      ]
     },
     "metadata": {
      "needs_background": "light"
     },
     "output_type": "display_data"
    }
   ],
   "source": [
    "looptijd, delen_tank_A, delen_tank_B = Forward_euler_methode()\n",
    "\n",
    "plt.plot(looptijd,delen_tank_A,'r',label='tank A')\n",
    "plt.plot(looptijd,delen_tank_B,'g',label='tank B')\n",
    "plt.title('Zoutoplossing in een tank')\n",
    "plt.legend()\n",
    "plt.show()"
   ]
  }
 ],
 "metadata": {
  "kernelspec": {
   "display_name": "Python 3",
   "language": "python",
   "name": "python3"
  },
  "language_info": {
   "codemirror_mode": {
    "name": "ipython",
    "version": 3
   },
   "file_extension": ".py",
   "mimetype": "text/x-python",
   "name": "python",
   "nbconvert_exporter": "python",
   "pygments_lexer": "ipython3",
   "version": "3.8.0"
  }
 },
 "nbformat": 4,
 "nbformat_minor": 4
}
